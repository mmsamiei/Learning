{
 "cells": [
  {
   "cell_type": "markdown",
   "metadata": {},
   "source": [
    "# important\n",
    "run your Jupyter like as belows\n",
    "    \n",
    "    PYSPARK_DRIVER_PYTHON=\"jupyter\" PYSPARK_DRIVER_PYTHON_OPTS=\"notebook\" pyspark --conf \"spark.mongodb.input.uri=mongodb://127.0.0.1/adanalas.transactions?readPreference=primaryPreferred\" --conf \"spark.mongodb.output.uri=mongodb://127.0.0.1/adanalas.transactions\" --packages org.mongodb.spark:mongo-spark-connector_2.11:2.2.0\n",
    "\n"
   ]
  },
  {
   "cell_type": "code",
   "execution_count": 1,
   "metadata": {
    "collapsed": true
   },
   "outputs": [],
   "source": [
    "import findspark\n",
    "findspark.init()"
   ]
  },
  {
   "cell_type": "code",
   "execution_count": 3,
   "metadata": {
    "collapsed": true
   },
   "outputs": [],
   "source": [
    "from pyspark.sql import SparkSession\n",
    "\n",
    "spark = SparkSession \\\n",
    "    .builder \\\n",
    "    .appName(\"myApp\") \\\n",
    "    .config(\"spark.mongodb.input.uri\", \"mongodb://127.0.0.1/adanalas.transactions\") \\\n",
    "    .config(\"spark.mongodb.output.uri\", \"mongodb://127.0.0.1/adanalas.transactions\") \\\n",
    "    .getOrCreate()"
   ]
  },
  {
   "cell_type": "markdown",
   "metadata": {},
   "source": [
    "You can use a SparkSession object to write data to MongoDB, read data from MongoDB, create DataFrames, and perform SQL operations."
   ]
  },
  {
   "cell_type": "code",
   "execution_count": 4,
   "metadata": {
    "collapsed": true
   },
   "outputs": [],
   "source": [
    "sc = spark.sparkContext"
   ]
  },
  {
   "cell_type": "code",
   "execution_count": 5,
   "metadata": {
    "collapsed": true
   },
   "outputs": [],
   "source": [
    "df = spark.read.format(\"com.mongodb.spark.sql\").load()"
   ]
  },
  {
   "cell_type": "code",
   "execution_count": 6,
   "metadata": {},
   "outputs": [
    {
     "name": "stdout",
     "output_type": "stream",
     "text": [
      "root\n",
      " |-- _id: string (nullable = true)\n",
      " |-- acquirer: string (nullable = true)\n",
      " |-- amount: integer (nullable = true)\n",
      " |-- billNumber: string (nullable = true)\n",
      " |-- category: string (nullable = true)\n",
      " |-- date: string (nullable = true)\n",
      " |-- deposit: string (nullable = true)\n",
      " |-- description: string (nullable = true)\n",
      " |-- detail: string (nullable = true)\n",
      " |-- guild: string (nullable = true)\n",
      " |-- hidden: string (nullable = true)\n",
      " |-- hint: string (nullable = true)\n",
      " |-- importId: string (nullable = true)\n",
      " |-- merchant: string (nullable = true)\n",
      " |-- operation: string (nullable = true)\n",
      " |-- rule: string (nullable = true)\n",
      " |-- setByUser: boolean (nullable = true)\n",
      " |-- store: string (nullable = true)\n",
      " |-- systemCategory: string (nullable = true)\n",
      " |-- tags: array (nullable = true)\n",
      " |    |-- element: string (containsNull = true)\n",
      " |-- target: string (nullable = true)\n",
      " |-- terminal: string (nullable = true)\n",
      " |-- type: string (nullable = true)\n",
      "\n"
     ]
    }
   ],
   "source": [
    "df.printSchema()"
   ]
  }
 ],
 "metadata": {
  "kernelspec": {
   "display_name": "Python 3",
   "language": "python",
   "name": "python3"
  },
  "language_info": {
   "codemirror_mode": {
    "name": "ipython",
    "version": 3
   },
   "file_extension": ".py",
   "mimetype": "text/x-python",
   "name": "python",
   "nbconvert_exporter": "python",
   "pygments_lexer": "ipython3",
   "version": "3.5.2"
  }
 },
 "nbformat": 4,
 "nbformat_minor": 2
}
